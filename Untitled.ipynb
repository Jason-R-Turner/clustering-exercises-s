{
 "cells": [
  {
   "cell_type": "markdown",
   "id": "bea3e02e-4b4f-40eb-8771-6d25e8ad052c",
   "metadata": {},
   "source": [
    "\n",
    "wangle_mall.py"
   ]
  },
  {
   "cell_type": "code",
   "execution_count": 2,
   "id": "7e194a93-fb3e-422e-9624-454d9b59ca6a",
   "metadata": {},
   "outputs": [
    {
     "ename": "ModuleNotFoundError",
     "evalue": "No module named 'env'",
     "output_type": "error",
     "traceback": [
      "\u001b[0;31m---------------------------------------------------------------------------\u001b[0m",
      "\u001b[0;31mModuleNotFoundError\u001b[0m                       Traceback (most recent call last)",
      "\u001b[0;32m/var/folders/tg/c6tcjwk13mj583lxrf25k3jm0000gn/T/ipykernel_24754/1263922226.py\u001b[0m in \u001b[0;36m<module>\u001b[0;34m\u001b[0m\n\u001b[1;32m      5\u001b[0m \u001b[0;32mfrom\u001b[0m \u001b[0msklearn\u001b[0m\u001b[0;34m.\u001b[0m\u001b[0mmodel_selection\u001b[0m \u001b[0;32mimport\u001b[0m \u001b[0mtrain_test_split\u001b[0m\u001b[0;34m\u001b[0m\u001b[0;34m\u001b[0m\u001b[0m\n\u001b[1;32m      6\u001b[0m \u001b[0;34m\u001b[0m\u001b[0m\n\u001b[0;32m----> 7\u001b[0;31m \u001b[0;32mimport\u001b[0m \u001b[0menv\u001b[0m\u001b[0;34m\u001b[0m\u001b[0;34m\u001b[0m\u001b[0m\n\u001b[0m",
      "\u001b[0;31mModuleNotFoundError\u001b[0m: No module named 'env'"
     ]
    }
   ],
   "source": [
    "### IMPORTS ####\n",
    "import pandas as pd\n",
    "import seaborn as sns\n",
    "from sklearn.preprocessing import MinMaxScaler\n",
    "from sklearn.model_selection import train_test_split\n",
    "\n",
    "import env"
   ]
  },
  {
   "cell_type": "code",
   "execution_count": 3,
   "id": "9a1ad541-c93d-47ea-ad5b-280bf10e3118",
   "metadata": {},
   "outputs": [
    {
     "ename": "IndentationError",
     "evalue": "expected an indented block (344283803.py, line 1)",
     "output_type": "error",
     "traceback": [
      "\u001b[0;36m  File \u001b[0;32m\"/var/folders/tg/c6tcjwk13mj583lxrf25k3jm0000gn/T/ipykernel_24754/344283803.py\"\u001b[0;36m, line \u001b[0;32m1\u001b[0m\n\u001b[0;31m    def acquire():\u001b[0m\n\u001b[0m                  ^\u001b[0m\n\u001b[0;31mIndentationError\u001b[0m\u001b[0;31m:\u001b[0m expected an indented block\n"
     ]
    }
   ],
   "source": [
    "def acquire():"
   ]
  },
  {
   "cell_type": "code",
   "execution_count": 5,
   "id": "70806d41-8caf-4c41-8515-60b0335e66fb",
   "metadata": {},
   "outputs": [
    {
     "ename": "SyntaxError",
     "evalue": "invalid syntax (2889579119.py, line 1)",
     "output_type": "error",
     "traceback": [
      "\u001b[0;36m  File \u001b[0;32m\"/var/folders/tg/c6tcjwk13mj583lxrf25k3jm0000gn/T/ipykernel_24754/2889579119.py\"\u001b[0;36m, line \u001b[0;32m1\u001b[0m\n\u001b[0;31m    def one_hot_\u001b[0m\n\u001b[0m                ^\u001b[0m\n\u001b[0;31mSyntaxError\u001b[0m\u001b[0;31m:\u001b[0m invalid syntax\n"
     ]
    }
   ],
   "source": [
    "def one_hot_encode(df):\n",
    "    df['is_female'] - df.gender == 'female'\n",
    "    drop"
   ]
  },
  {
   "cell_type": "code",
   "execution_count": null,
   "id": "44fab11b-f3d6-4a25-b730-0d9088ee3290",
   "metadata": {},
   "outputs": [],
   "source": [
    "def split"
   ]
  },
  {
   "cell_type": "code",
   "execution_count": null,
   "id": "4de892bf-6403-4266-a158-9a186fa39f22",
   "metadata": {},
   "outputs": [],
   "source": [
    "def "
   ]
  },
  {
   "cell_type": "code",
   "execution_count": null,
   "id": "3d625ae4-8910-4dac-9cf8-b86478c8eb53",
   "metadata": {},
   "outputs": [],
   "source": [
    "def scale\n",
    "\n",
    "\n",
    "    return scalre, train_scaled, validate_scaled, test_scaled"
   ]
  },
  {
   "cell_type": "code",
   "execution_count": 6,
   "id": "06271b32-c6e7-4a67-a0a4-7a8394b57503",
   "metadata": {},
   "outputs": [],
   "source": [
    "def overview(df):\n",
    "    print('--- Shape: {}'.format(df.shape))\n",
    "    print()\n",
    "    print('--- Info')\n",
    "    df.into()\n",
    "    print()\n",
    "    print('--- Column Descriptions')\n",
    "    print(df.describe(include='all'))"
   ]
  },
  {
   "cell_type": "code",
   "execution_count": 7,
   "id": "9ff6eab7-e17c-41bc-a538-c7113e52a673",
   "metadata": {},
   "outputs": [],
   "source": [
    "def outlier_function(df, cols, k):\n",
    "    for col in df[cols]:\n",
    "        q1 = df[col].quantile(0.25)\n",
    "        q3 = df[col].quantile(0.75)\n",
    "        iqr = q3 - q1\n",
    "        upper_bound = q3 + k * iqr\n",
    "        lower_bound = q1 - k * iqr\n",
    "        df = df[(df[col] < upper_bound) & (df[col] > lower_bound)]\n",
    "    return df"
   ]
  },
  {
   "cell_type": "code",
   "execution_count": 4,
   "id": "e280a153-7751-4d87-a77d-76e7e63bf733",
   "metadata": {},
   "outputs": [],
   "source": [
    "def handle_missing_values(df, prop_required_column, prop_required_row):\n",
    "    n_required_column = rount(df.shape[0] - prop_required_column)\n",
    "    n_require_row = round(df.shape[1] * propr_required_row)\n",
    "    df = df.dropna(axis=0, thresh=n_required_row)\n",
    "    df = df.dropna(axis=1, thresh=n_required_colun)\n",
    "    return df"
   ]
  },
  {
   "cell_type": "code",
   "execution_count": null,
   "id": "556d8d35-f181-41e7-8ecb-45d0d4ccf73f",
   "metadata": {},
   "outputs": [],
   "source": [
    "def get_exploration_data():\n",
    "    df = acquire()\n",
    "    \n",
    "    print('Before dropping nulls, %d rows, %d cols' % df.shape_\n",
    "    df = handle_missingvalues(df, prop_rquired_column=.5, prop_requiredrow=.5)\n",
    "    print('After dropping nulls, %d cols' % df.shape)\n",
    "          \n",
    "    train, validate, test = split(df)\n",
    "          \n",
    "    retuern train"
   ]
  },
  {
   "cell_type": "code",
   "execution_count": null,
   "id": "ebd073b6-7fe3-4468-b8f8-647ab7fbe43d",
   "metadata": {},
   "outputs": [],
   "source": [
    "def get_modeling_data(scale_data=False):\n",
    "    df = acquire()\n",
    "    \n",
    "    print('Before dropping nulls, %d rows, %d cols' % df.shape)\n",
    "    df = handle_missing_values(df, prop_required_column=.5, prop_rquired_row=.5)\n",
    "    print('After dropping nulls, %d rows, %d cols' % df.shape)\n",
    "    \n",
    "    print()\n",
    "    \n",
    "    print('Before removing outliers, %d rows, %d cols' %df.shape)\n",
    "    outlierfunctions(df, ['age', 'spending_score', 'annual_income'], 1.5)\n",
    "    print('After dropping nulls, %d rows, %d cols' % df.shape)\n",
    "    \n",
    "    print()\n",
    "    \n",
    "    df = one_hot_encode(df)\n",
    "    \n",
    "    train, validate, test = split(df)\n",
    "    \n",
    "    if scale_data:\n",
    "        return scale(train, validate, teset)\n",
    "    else:\n",
    "        return train, validate, test"
   ]
  },
  {
   "cell_type": "code",
   "execution_count": null,
   "id": "8d39e0ec-581d-4a87-8372-8d4d9fbe9c60",
   "metadata": {},
   "outputs": [],
   "source": []
  },
  {
   "cell_type": "code",
   "execution_count": null,
   "id": "77b78864-a2a2-443c-b20d-3d1b0a34d9f4",
   "metadata": {},
   "outputs": [],
   "source": []
  },
  {
   "cell_type": "code",
   "execution_count": null,
   "id": "5d59b09a-4380-42c3-8da6-acea64d5b837",
   "metadata": {},
   "outputs": [],
   "source": []
  },
  {
   "cell_type": "code",
   "execution_count": null,
   "id": "e6ee2dd4-ccd8-4c84-a9e9-d05433283210",
   "metadata": {},
   "outputs": [],
   "source": []
  }
 ],
 "metadata": {
  "kernelspec": {
   "display_name": "Python 3 (ipykernel)",
   "language": "python",
   "name": "python3"
  },
  "language_info": {
   "codemirror_mode": {
    "name": "ipython",
    "version": 3
   },
   "file_extension": ".py",
   "mimetype": "text/x-python",
   "name": "python",
   "nbconvert_exporter": "python",
   "pygments_lexer": "ipython3",
   "version": "3.9.7"
  }
 },
 "nbformat": 4,
 "nbformat_minor": 5
}
