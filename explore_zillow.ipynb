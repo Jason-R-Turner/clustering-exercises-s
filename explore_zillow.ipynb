{
 "cells": [
  {
   "cell_type": "markdown",
   "id": "2fd0199a-162c-4fa1-b3ff-d78a2dc457be",
   "metadata": {},
   "source": [
    "# Exploratory Analysis"
   ]
  },
  {
   "cell_type": "markdown",
   "id": "b322dd27-9fb5-4246-9d6d-329d933d048f",
   "metadata": {},
   "source": [
    "1. Ask at least 5 questions about the data, keeping in mind that your target variable is logerror. e.g. Is logerror significantly different for properties in LA County vs Orange County vs Ventura County?"
   ]
  },
  {
   "cell_type": "markdown",
   "id": "1c825013-e2f3-4ae3-b69d-013e9a062185",
   "metadata": {},
   "source": [
    "2. Answer those questions through a mix of statistical tests and visualizations."
   ]
  },
  {
   "cell_type": "markdown",
   "id": "42544419-cff0-43c9-8808-58ed7c5ea22f",
   "metadata": {},
   "source": [
    "Bonus:\n",
    "\n",
    "Compute the mean(logerror) by zipcode and the overall mean(logerror). Write a loop that will run a t-test between the overall mean and the mean for each zip code. We want to identify the zip codes where the error is significantly higher or lower than the expected error."
   ]
  },
  {
   "cell_type": "code",
   "execution_count": null,
   "id": "da36e055-cb9d-49d1-9468-fdebf8a7e0be",
   "metadata": {},
   "outputs": [],
   "source": []
  }
 ],
 "metadata": {
  "kernelspec": {
   "display_name": "Python 3 (ipykernel)",
   "language": "python",
   "name": "python3"
  },
  "language_info": {
   "codemirror_mode": {
    "name": "ipython",
    "version": 3
   },
   "file_extension": ".py",
   "mimetype": "text/x-python",
   "name": "python",
   "nbconvert_exporter": "python",
   "pygments_lexer": "ipython3",
   "version": "3.9.7"
  }
 },
 "nbformat": 4,
 "nbformat_minor": 5
}
