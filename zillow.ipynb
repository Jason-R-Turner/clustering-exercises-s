{
 "cells": [
  {
   "cell_type": "markdown",
   "id": "df3bcbb9-37ee-4cab-9e59-2c4da364c714",
   "metadata": {},
   "source": [
    "wrangle_exerciese.ipynb"
   ]
  },
  {
   "cell_type": "markdown",
   "id": "73fd42c3-5bc9-4d22-8968-68cd7caa6227",
   "metadata": {},
   "source": [
    "Imports"
   ]
  },
  {
   "cell_type": "code",
   "execution_count": 1,
   "id": "4076a609-2114-49a2-aa92-87f8953a2639",
   "metadata": {},
   "outputs": [],
   "source": [
    "# ignore warnings\n",
    "import warnings\n",
    "warnings.filterwarnings(\"ignore\")\n",
    "\n",
    "# Wrangling\n",
    "import pandas as pd\n",
    "import numpy as np\n",
    "\n",
    "# Exploring\n",
    "import scipy.stats as stats\n",
    "\n",
    "# Visualizing\n",
    "%matplotlib inline\n",
    "import matplotlib.pyplot as plt\n",
    "import seaborn as sns\n",
    "\n",
    "# default pandas decimal number display format\n",
    "pd.options.display.float_format = '{:20,.2f}'.format\n",
    "\n",
    "# wrangle module for acquire and prepare steps\n",
    "import wrangle"
   ]
  },
  {
   "cell_type": "code",
   "execution_count": 2,
   "id": "f6340c22-0fa3-4460-8949-6979d3c8a198",
   "metadata": {},
   "outputs": [
    {
     "data": {
      "text/plain": [
       "(       bedroomcnt          bathroomcnt  calculatedfinishedsquarefeet  \\\n",
       " 29975           3                 2.00                          1238   \n",
       " 22486           4                 3.00                          3833   \n",
       " 18433           4                 2.00                          1304   \n",
       " 6445            4                 2.00                          1620   \n",
       " 17421           4                 2.00                          1963   \n",
       " ...           ...                  ...                           ...   \n",
       " 3076            3                 2.00                          1737   \n",
       " 26764           3                 2.00                          1300   \n",
       " 22519           5                 4.50                          3728   \n",
       " 9386            3                 2.00                          1337   \n",
       " 1879            2                 2.00                          1367   \n",
       " \n",
       "        lotsizesquarefeet  taxvaluedollarcnt  yearbuilt  fips county  \n",
       " 29975               6969             237037       1954  6037   6037  \n",
       " 22486               9964             287413       2007  6037   6037  \n",
       " 18433               6000              66419       1959  6059   6059  \n",
       " 6445                9992             157617       1957  6037   6037  \n",
       " 17421              11049             499310       1961  6037   6037  \n",
       " ...                  ...                ...        ...   ...    ...  \n",
       " 3076                8901             407191       1968  6059   6059  \n",
       " 26764               7745             268568       1954  6037   6037  \n",
       " 22519               3960             212968       1962  6059   6059  \n",
       " 9386                6150              62699       1950  6037   6037  \n",
       " 1879                6000             815542       2014  6059   6059  \n",
       " \n",
       " [24940 rows x 8 columns],\n",
       "        bedroomcnt          bathroomcnt  calculatedfinishedsquarefeet  \\\n",
       " 4336            3                 2.00                          2263   \n",
       " 39815           2                 1.00                           896   \n",
       " 137             2                 2.00                          1551   \n",
       " 34938           3                 2.00                          1308   \n",
       " 15237           4                 3.00                          2706   \n",
       " ...           ...                  ...                           ...   \n",
       " 5884            3                 1.00                           998   \n",
       " 34593           3                 2.00                          1593   \n",
       " 26546           3                 2.00                          1286   \n",
       " 48461           3                 2.00                          1667   \n",
       " 47543           4                 2.00                          1991   \n",
       " \n",
       "        lotsizesquarefeet  taxvaluedollarcnt  yearbuilt  fips county  \n",
       " 4336                8884             849496       1951  6037   6037  \n",
       " 39815               6198             204284       1948  6037   6037  \n",
       " 137                 7667              78438       1947  6037   6037  \n",
       " 34938               7878             294366       1955  6037   6037  \n",
       " 15237               9436             515783       1950  6037   6037  \n",
       " ...                  ...                ...        ...   ...    ...  \n",
       " 5884                7440             353540       1953  6059   6059  \n",
       " 34593               7320             213400       2007  6037   6037  \n",
       " 26546               6372             135979       1950  6059   6059  \n",
       " 48461              26383             136962       1990  6037   6037  \n",
       " 47543               6042             249854       1962  6037   6037  \n",
       " \n",
       " [16628 rows x 8 columns],\n",
       "        bedroomcnt          bathroomcnt  calculatedfinishedsquarefeet  \\\n",
       " 50666           4                 3.00                          2830   \n",
       " 34202           4                 3.00                          2322   \n",
       " 18395           5                 6.00                          8385   \n",
       " 1184            2                 3.00                          1631   \n",
       " 50118           4                 2.00                          1872   \n",
       " ...           ...                  ...                           ...   \n",
       " 27017           3                 2.00                          1296   \n",
       " 21329           3                 2.00                          2087   \n",
       " 25819           4                 3.00                          1722   \n",
       " 40933           5                 3.00                          3518   \n",
       " 33828           5                 3.00                          2631   \n",
       " \n",
       "        lotsizesquarefeet  taxvaluedollarcnt  yearbuilt  fips county  \n",
       " 50666              15215            1253000       1922  6037   6037  \n",
       " 34202               9878             784788       1979  6037   6037  \n",
       " 18395              22608            7055987       2008  6059   6059  \n",
       " 1184                2500             496427       1974  6059   6059  \n",
       " 50118               8872             252328       1963  6059   6059  \n",
       " ...                  ...                ...        ...   ...    ...  \n",
       " 27017               5423             407603       1952  6037   6037  \n",
       " 21329              10232             941563       1958  6037   6037  \n",
       " 25819               6993              94506       1965  6037   6037  \n",
       " 40933              19600            1159507       1956  6111   6111  \n",
       " 33828               4730             944325       1996  6059   6059  \n",
       " \n",
       " [10392 rows x 8 columns])"
      ]
     },
     "execution_count": 2,
     "metadata": {},
     "output_type": "execute_result"
    }
   ],
   "source": [
    "zillow_df = wrangle.wrangle_zillow()\n",
    "zillow_df"
   ]
  },
  {
   "cell_type": "code",
   "execution_count": 3,
   "id": "8cd60557-115c-4a34-9dc4-c9f97c03b752",
   "metadata": {},
   "outputs": [],
   "source": [
    "query = '''\n",
    "    SELECT\n",
    "        prop.*,\n",
    "        predictions_2017.logerror, \n",
    "        predictions_2017.transactiondate,\n",
    "        air.airconditiongdesc,\n",
    "        arch.architecturalstyledesc,\n",
    "        build.buildingclassdesc,\n",
    "        heat.heatingorsytemdesc,\n",
    "        landuse.propertylandusedesc,\n",
    "    From properties_2017 prop\n",
    "    JOIN (\n",
    "        SELECT parcelid, MAX(tansactiondate) AS max_transactiondate\n",
    "        FROM predictions_2017\n",
    "        GROUP BY parcelid\n",
    "    ) pred USING(parcelid)\n",
    "    JOIN predictions_2017 ON pred.parcelid = predictions_2017.parcelid\n",
    "                        AND pred.mzx_tansactiondate = predictions_2017.transactiondate\n",
    "    LEFT JOIN airconditiontype air USING (ariconditioningtypeid)\n",
    "    LEFT JOIN architectrualstyletype arch USING (architecturalstyletypeid)\n",
    "    LEFT JOIN buildingclasstype build USING (buildingclasstypeid)\n",
    "    LEFT JOIN heatingorsystemtype heat USING (heatingorsystemtypeid)\n",
    "    LEFT JOIN propertylandusetype landuse USING (propertylandusetypeid)\n",
    "    LEFT JOIN storytype story USING (storytypeid)\n",
    "    LEFT JOIN typeconstructiontype contruct USING (typeconstructiontypeid)\n",
    "    WHERE prop.latitude IS NOT NULL\n",
    "        AND prop.longitude IS NOT NULL\n",
    "        AND tansactiondate <= '2017-12-31'\n",
    "        AND properlanddesc....\n",
    "    '''"
   ]
  },
  {
   "cell_type": "code",
   "execution_count": 4,
   "id": "eb9f7a9d-b469-4e88-947b-8956f6f758ec",
   "metadata": {},
   "outputs": [],
   "source": [
    "def overview(df):\n",
    "    print('--- Shape: {}'.format(df.shape))\n",
    "    print()\n",
    "    print('--- Info')\n",
    "    df.info()\n",
    "    print()\n",
    "    print('---- Column Descriptions')\n",
    "    print(df.describe(include='all'))"
   ]
  },
  {
   "cell_type": "code",
   "execution_count": 5,
   "id": "8fcf16ef-a16f-4580-83ec-eb12ae9b7fb1",
   "metadata": {},
   "outputs": [],
   "source": [
    "                      \n",
    "def nulls_by_columns(df):\n",
    "    return pd.concat([\n",
    "        df.isna().sum().rename('count'),\n",
    "        df.isna().mean().rename('percent')\n",
    "    ], axis=1)"
   ]
  },
  {
   "cell_type": "code",
   "execution_count": 6,
   "id": "814f8cd6-5f41-407c-8d1d-f5322b117e22",
   "metadata": {},
   "outputs": [],
   "source": [
    "def nulls_by_rows(df):\n",
    "    return pd.concat([\n",
    "        df.isna().sum(axis=1).rename('n_missing'),\n",
    "        df.isna().mean(axis=1).rename('percent_missing'),\n",
    "    ], axis=1).value_counts().sort_index()"
   ]
  },
  {
   "cell_type": "code",
   "execution_count": 7,
   "id": "4c9f0759-fe33-4588-ad0c-c9d7c893f441",
   "metadata": {},
   "outputs": [],
   "source": [
    "    \n",
    "def handle_missing_values(df, prop_required_column, prop_required_row):\n",
    "    n_required_column = round(df.shape[0] * prop_require_column)\n",
    "    n_required_row = round(df.shape[1] * propr_required_row)\n",
    "    df = df.dropna(axis=1, thresh=n_required_column)\n",
    "    return df"
   ]
  },
  {
   "cell_type": "code",
   "execution_count": 8,
   "id": "df6a2d20-25d0-45b9-a68e-96c5cb47f90c",
   "metadata": {},
   "outputs": [],
   "source": [
    "def acquire():\n",
    "    if os.path.exists('zillow.csv'):\n",
    "        df = pd.read_csv('zillow.csv')\n",
    "    else:\n",
    "        database = n"
   ]
  },
  {
   "cell_type": "code",
   "execution_count": 9,
   "id": "3b4e06eb-ac62-499a-9410-9ae0864f2c58",
   "metadata": {},
   "outputs": [],
   "source": [
    "def metrics(df):\n",
    "    '''\n",
    "    Gets the number of rows, columns, and number of rows with nulls for each column.  Also returns description for common values from table.\n",
    "    '''\n",
    "    rows = df.shape[0]\n",
    "    cols = df.shape[1]\n",
    "    nulls = df.isna().sum()\n",
    "    print(f'There are {rows} rows and {cols} columns in this dataframe.')\n",
    "    print(f'Plus the following nulls:\\n{nulls}')\n",
    "    return df.describe().T"
   ]
  },
  {
   "cell_type": "code",
   "execution_count": 10,
   "id": "780432f6-e4d2-4f51-b260-a3aaa0614e26",
   "metadata": {},
   "outputs": [],
   "source": [
    "def get_numbers(df):\n",
    "    for column in df.columns:\n",
    "        print(column)\n",
    "        print(df[column].value_counts())\n",
    "        print(\"-----------------\")\n",
    "        "
   ]
  },
  {
   "cell_type": "code",
   "execution_count": 11,
   "id": "981c9132-2be4-49e7-84e0-913b30d4fb80",
   "metadata": {},
   "outputs": [],
   "source": [
    "def get_nan_cols(df, nan_percent=0.8):\n",
    "    threshold = len(df.index) * nan_percent\n",
    "    return [c for c in df.columns if sum(df[c].isnull()) >= threshold]"
   ]
  },
  {
   "cell_type": "code",
   "execution_count": 12,
   "id": "4cddc405-5748-4e56-9729-b493d24ede08",
   "metadata": {},
   "outputs": [],
   "source": [
    "def summarize(df):\n",
    "    metrics(df)\n",
    "    get_numbers(df)\n",
    "    info(df)\n",
    "    return   "
   ]
  },
  {
   "cell_type": "code",
   "execution_count": 14,
   "id": "d4930f5d-bd22-45e2-88d3-beb4820c0d0b",
   "metadata": {},
   "outputs": [
    {
     "ename": "AttributeError",
     "evalue": "'tuple' object has no attribute 'isna'",
     "output_type": "error",
     "traceback": [
      "\u001b[0;31m---------------------------------------------------------------------------\u001b[0m",
      "\u001b[0;31mAttributeError\u001b[0m                            Traceback (most recent call last)",
      "\u001b[0;32m/var/folders/tg/c6tcjwk13mj583lxrf25k3jm0000gn/T/ipykernel_12613/198054659.py\u001b[0m in \u001b[0;36m<module>\u001b[0;34m\u001b[0m\n\u001b[0;32m----> 1\u001b[0;31m \u001b[0mnulls_by_columns\u001b[0m\u001b[0;34m(\u001b[0m\u001b[0mzillow_df\u001b[0m\u001b[0;34m)\u001b[0m\u001b[0;34m\u001b[0m\u001b[0;34m\u001b[0m\u001b[0m\n\u001b[0m",
      "\u001b[0;32m/var/folders/tg/c6tcjwk13mj583lxrf25k3jm0000gn/T/ipykernel_12613/1401347723.py\u001b[0m in \u001b[0;36mnulls_by_columns\u001b[0;34m(df)\u001b[0m\n\u001b[1;32m      1\u001b[0m \u001b[0;32mdef\u001b[0m \u001b[0mnulls_by_columns\u001b[0m\u001b[0;34m(\u001b[0m\u001b[0mdf\u001b[0m\u001b[0;34m)\u001b[0m\u001b[0;34m:\u001b[0m\u001b[0;34m\u001b[0m\u001b[0;34m\u001b[0m\u001b[0m\n\u001b[1;32m      2\u001b[0m     return pd.concat([\n\u001b[0;32m----> 3\u001b[0;31m         \u001b[0mdf\u001b[0m\u001b[0;34m.\u001b[0m\u001b[0misna\u001b[0m\u001b[0;34m(\u001b[0m\u001b[0;34m)\u001b[0m\u001b[0;34m.\u001b[0m\u001b[0msum\u001b[0m\u001b[0;34m(\u001b[0m\u001b[0;34m)\u001b[0m\u001b[0;34m.\u001b[0m\u001b[0mrename\u001b[0m\u001b[0;34m(\u001b[0m\u001b[0;34m'count'\u001b[0m\u001b[0;34m)\u001b[0m\u001b[0;34m,\u001b[0m\u001b[0;34m\u001b[0m\u001b[0;34m\u001b[0m\u001b[0m\n\u001b[0m\u001b[1;32m      4\u001b[0m         \u001b[0mdf\u001b[0m\u001b[0;34m.\u001b[0m\u001b[0misna\u001b[0m\u001b[0;34m(\u001b[0m\u001b[0;34m)\u001b[0m\u001b[0;34m.\u001b[0m\u001b[0mmean\u001b[0m\u001b[0;34m(\u001b[0m\u001b[0;34m)\u001b[0m\u001b[0;34m.\u001b[0m\u001b[0mrename\u001b[0m\u001b[0;34m(\u001b[0m\u001b[0;34m'percent'\u001b[0m\u001b[0;34m)\u001b[0m\u001b[0;34m\u001b[0m\u001b[0;34m\u001b[0m\u001b[0m\n\u001b[1;32m      5\u001b[0m     ], axis=1)\n",
      "\u001b[0;31mAttributeError\u001b[0m: 'tuple' object has no attribute 'isna'"
     ]
    }
   ],
   "source": [
    "nulls_by_columns(zillow_df)"
   ]
  },
  {
   "cell_type": "code",
   "execution_count": null,
   "id": "4fb0039d-e603-48bb-8a43-f587cd824c30",
   "metadata": {},
   "outputs": [],
   "source": []
  }
 ],
 "metadata": {
  "kernelspec": {
   "display_name": "Python 3 (ipykernel)",
   "language": "python",
   "name": "python3"
  },
  "language_info": {
   "codemirror_mode": {
    "name": "ipython",
    "version": 3
   },
   "file_extension": ".py",
   "mimetype": "text/x-python",
   "name": "python",
   "nbconvert_exporter": "python",
   "pygments_lexer": "ipython3",
   "version": "3.9.7"
  }
 },
 "nbformat": 4,
 "nbformat_minor": 5
}
