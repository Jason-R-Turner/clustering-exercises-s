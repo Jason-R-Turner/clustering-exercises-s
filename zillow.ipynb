{
 "cells": [
  {
   "cell_type": "markdown",
   "id": "df3bcbb9-37ee-4cab-9e59-2c4da364c714",
   "metadata": {},
   "source": [
    "wrangle_exerciese.ipynb"
   ]
  },
  {
   "cell_type": "markdown",
   "id": "73fd42c3-5bc9-4d22-8968-68cd7caa6227",
   "metadata": {},
   "source": [
    "Imports"
   ]
  },
  {
   "cell_type": "code",
   "execution_count": 1,
   "id": "4076a609-2114-49a2-aa92-87f8953a2639",
   "metadata": {},
   "outputs": [],
   "source": [
    "# ignore warnings\n",
    "import warnings\n",
    "warnings.filterwarnings(\"ignore\")\n",
    "\n",
    "# Wrangling\n",
    "import pandas as pd\n",
    "import numpy as np\n",
    "\n",
    "# Exploring\n",
    "import scipy.stats as stats\n",
    "\n",
    "# Visualizing\n",
    "%matplotlib inline\n",
    "import matplotlib.pyplot as plt\n",
    "import seaborn as sns\n",
    "\n",
    "# default pandas decimal number display format\n",
    "pd.options.display.float_format = '{:20,.2f}'.format\n",
    "\n",
    "# wrangle module for acquire and prepare steps\n",
    "import wrangle"
   ]
  },
  {
   "cell_type": "code",
   "execution_count": 2,
   "id": "f6340c22-0fa3-4460-8949-6979d3c8a198",
   "metadata": {},
   "outputs": [
    {
     "ename": "NameError",
     "evalue": "name 'wrangle_zillow' is not defined",
     "output_type": "error",
     "traceback": [
      "\u001b[0;31m---------------------------------------------------------------------------\u001b[0m",
      "\u001b[0;31mNameError\u001b[0m                                 Traceback (most recent call last)",
      "\u001b[0;32m/var/folders/tg/c6tcjwk13mj583lxrf25k3jm0000gn/T/ipykernel_57863/4164562511.py\u001b[0m in \u001b[0;36m<module>\u001b[0;34m\u001b[0m\n\u001b[0;32m----> 1\u001b[0;31m \u001b[0mzillow_df\u001b[0m \u001b[0;34m=\u001b[0m \u001b[0mwrangle_zillow\u001b[0m\u001b[0;34m.\u001b[0m\u001b[0macquire\u001b[0m\u001b[0;34m(\u001b[0m\u001b[0;34m)\u001b[0m\u001b[0;34m\u001b[0m\u001b[0;34m\u001b[0m\u001b[0m\n\u001b[0m\u001b[1;32m      2\u001b[0m \u001b[0mzillow_df\u001b[0m\u001b[0;34m\u001b[0m\u001b[0;34m\u001b[0m\u001b[0m\n",
      "\u001b[0;31mNameError\u001b[0m: name 'wrangle_zillow' is not defined"
     ]
    }
   ],
   "source": [
    "zillow_df = wrangle_zillow.acquire()\n",
    "zillow_df"
   ]
  },
  {
   "cell_type": "code",
   "execution_count": null,
   "id": "ab2a4f06-d803-413e-a681-2fad427dba84",
   "metadata": {},
   "outputs": [],
   "source": [
    "\n",
    "query = '''\n",
    "    SELECT\n",
    "        prop.*,\n",
    "        predictions_2017.logerror, \n",
    "        predictions_2017.transactiondate,\n",
    "        air.airconditiongdesc,\n",
    "        arch.architecturalstyledesc,\n",
    "        build.buildingclassdesc,\n",
    "        heat.heatingorsytemdesc,\n",
    "        landuse.propertylandusedesc,\n",
    "    From properties_2017 prop\n",
    "    JOIN (\n",
    "        SELECT parcelid, MAX(tansactiondate) AS max_transactiondate\n",
    "        FROM predictions_2017\n",
    "        GROUP BY parcelid\n",
    "    ) pred USING(parcelid)\n",
    "    JOIN predictions_2017 ON pred.parcelid = predictions_2017.parcelid\n",
    "                        AND pred.mzx_tansactiondate = predictions_2017.transactiondate\n",
    "    LEFT JOIN airconditiontype air USING (ariconditioningtypeid)\n",
    "    LEFT JOIN architectrualstyletype arch USING (architecturalstyletypeid)\n",
    "    LEFT JOIN buildingclasstype build USING (buildingclasstypeid)\n",
    "    LEFT JOIN heatingorsystemtype heat USING (heatingorsystemtypeid)\n",
    "    LEFT JOIN propertylandusetype landuse USING (propertylandusetypeid)\n",
    "    LEFT JOIN storytype story USING (storytypeid)\n",
    "    LEFT JOIN typeconstructiontype contruct USING (typeconstructiontypeid)\n",
    "    WHERE prop.latitude IS NOT NULL\n",
    "        AND prop.longitude IS NOT NULL\n",
    "        AND tansactiondate <= '2017-12-31'\n",
    "        AND properlanddesc....\n",
    "    '''\n",
    "\n",
    "def overview(df):\n",
    "    print('--- Shape: {}'.format(df.shape))\n",
    "    print()\n",
    "    print('--- Info')\n",
    "    df.info()\n",
    "    print()\n",
    "    print('---- Column Descriptions')\n",
    "    print(df.describe(include='all'))\n",
    "                      \n",
    "def nulls_by_columns(df):\n",
    "    return pd.concat([\n",
    "        df.isna().sum().rename('count'),\n",
    "        df.isna().mean().rename('percent')\n",
    "    ], axis=1)\n",
    "\n",
    "def nulls_by_rows(df):\n",
    "    returner pd.concat([\n",
    "        df.isna().sum(axis=1).rename('n_missing'),\n",
    "        df.isna().mean(axis=1).rename('percent_missing'),\n",
    "    ], axis=1).value_counts().sort_index()\n",
    "    \n",
    "def handle_missing_values(df, prop_required_column, prop_required_row):\n",
    "    n_required_column = round(df.shape[0] * prop_require_column)\n",
    "    n_required_row = round(df.shape[1] * propr_required_row)\n",
    "    df = df.dropna(axis=1, thresh=n=required_column)\n",
    "    return df\n",
    "\n",
    "def acquire():\n",
    "    if os.path.exists('zillow.csv'):\n",
    "        df = pd.read_csv('zillow.csv')\n",
    "    else:\n",
    "        database = n\n",
    "                          "
   ]
  }
 ],
 "metadata": {
  "kernelspec": {
   "display_name": "Python 3 (ipykernel)",
   "language": "python",
   "name": "python3"
  },
  "language_info": {
   "codemirror_mode": {
    "name": "ipython",
    "version": 3
   },
   "file_extension": ".py",
   "mimetype": "text/x-python",
   "name": "python",
   "nbconvert_exporter": "python",
   "pygments_lexer": "ipython3",
   "version": "3.9.7"
  }
 },
 "nbformat": 4,
 "nbformat_minor": 5
}
